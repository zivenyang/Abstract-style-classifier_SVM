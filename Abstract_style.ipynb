{
 "cells": [
  {
   "cell_type": "markdown",
   "metadata": {},
   "source": [
    "# 抽象图像风格分类（SVM版本）\n",
    "## 1.载入数据"
   ]
  },
  {
   "cell_type": "code",
   "execution_count": 1,
   "metadata": {
    "collapsed": false
   },
   "outputs": [],
   "source": [
    "from sklearn import svm, model_selection, metrics\n",
    "from sklearn.decomposition import PCA\n",
    "import numpy as np\n",
    "import os"
   ]
  },
  {
   "cell_type": "code",
   "execution_count": 2,
   "metadata": {
    "collapsed": false
   },
   "outputs": [
    {
     "name": "stdout",
     "output_type": "stream",
     "text": [
      "(5812, 3000)\n",
      "(5812,)\n",
      "[2 5 1 0 3 3 0 1 0 2 2 2 2 3 1 4 1 1 2 1]\n",
      "[3 1 4 1 0 0 4 2 0 2 3 1 4 0 0 2 1 1 2 2]\n"
     ]
    }
   ],
   "source": [
    "data_dir = \"/media/ziven/My Passport/Dataset/Painter by Numbers/140x140_style/\"\n",
    "\n",
    "def load_data_PbN(PbN_dir):\n",
    "        \"\"\"load Pinter by Numbers dataset\"\"\"\n",
    "        train_images_Abstract_Art = np.load(os.path.join(PbN_dir, 'style_train_images_Abstract_Art.npy'))\n",
    "        train_images_Abstract_Expressionism = np.load(os.path.join(PbN_dir, 'style_train_images_Abstract_Expressionism.npy'))\n",
    "        train_images_Art_Informel = np.load(os.path.join(PbN_dir, 'style_train_images_Art_Informel.npy'))\n",
    "        train_images_Color_Field_Painting = np.load(os.path.join(PbN_dir, 'style_train_images_Color_Field_Painting.npy'))\n",
    "        train_images_Lyrical_Abstraction = np.load(os.path.join(PbN_dir, 'style_train_images_Lyrical_Abstraction.npy'))\n",
    "        train_images_Concretism = np.load(os.path.join(PbN_dir, 'style_train_images_Concretism.npy'))\n",
    "        train_data = np.concatenate((train_images_Abstract_Art, train_images_Abstract_Expressionism,\n",
    "                                     train_images_Art_Informel, train_images_Color_Field_Painting,\n",
    "                                     train_images_Lyrical_Abstraction, train_images_Concretism))\n",
    "\n",
    "        train_labels_Abstract_Art = [0 for i in range(train_images_Abstract_Art.shape[0])]\n",
    "        train_labels_Abstract_Expressionism = [1 for j in range(train_images_Abstract_Expressionism.shape[0])]\n",
    "        train_labels_Art_Informel = [2 for k in range(train_images_Art_Informel.shape[0])]\n",
    "        train_labels_Color_Field_Painting = [3 for l in range(train_images_Color_Field_Painting.shape[0])]\n",
    "        train_labels_Lyrical_Abstraction = [4 for i1 in range(train_images_Lyrical_Abstraction.shape[0])]\n",
    "        train_labels_Concretism = [5 for i2 in range(train_images_Concretism.shape[0])]\n",
    "        train_labels = np.concatenate((train_labels_Abstract_Art, train_labels_Abstract_Expressionism,\n",
    "                          train_labels_Art_Informel, train_labels_Color_Field_Painting,\n",
    "                          train_labels_Lyrical_Abstraction, train_labels_Concretism))\n",
    "\n",
    "        test_images_Abstract_Art = np.load(os.path.join(PbN_dir, 'style_test_images_Abstract_Art.npy'))\n",
    "        test_images_Abstract_Expressionism = np.load(os.path.join(PbN_dir, 'style_test_images_Abstract_Expressionism.npy'))\n",
    "        test_images_Art_Informel = np.load(os.path.join(PbN_dir, 'style_test_images_Art_Informel.npy'))\n",
    "        test_images_Color_Field_Painting = np.load(os.path.join(PbN_dir, 'style_test_images_Color_Field_Painting.npy'))\n",
    "        test_images_Lyrical_Abstraction = np.load(os.path.join(PbN_dir, 'style_test_images_Lyrical_Abstraction.npy'))\n",
    "        test_images_Concretism = np.load(os.path.join(PbN_dir, 'style_test_images_Concretism.npy'))\n",
    "        val_data = np.concatenate((test_images_Abstract_Art, test_images_Abstract_Expressionism,\n",
    "                                   test_images_Art_Informel, test_images_Color_Field_Painting,\n",
    "                                   test_images_Lyrical_Abstraction, test_images_Concretism))\n",
    "\n",
    "        val_labels_Abstract_Art = [0 for m in range(test_images_Abstract_Art.shape[0])]\n",
    "        val_labels_Abstract_Expressionism = [1 for n in range(test_images_Abstract_Expressionism.shape[0])]\n",
    "        val_labels_Art_Informel = [2 for p in range(test_images_Art_Informel.shape[0])]\n",
    "        val_labels_Color_Field_Painting = [3 for q in range(test_images_Color_Field_Painting.shape[0])]\n",
    "        val_labels_Lyrical_Abstraction = [4 for j1 in range(test_images_Lyrical_Abstraction.shape[0])]\n",
    "        val_labels_Concretism = [5 for j2 in range(test_images_Concretism.shape[0])]\n",
    "        val_labels = np.concatenate((val_labels_Abstract_Art, val_labels_Abstract_Expressionism,\n",
    "                              val_labels_Art_Informel, val_labels_Color_Field_Painting,\n",
    "                              val_labels_Lyrical_Abstraction, val_labels_Concretism))\n",
    "\n",
    "        X = np.concatenate((train_data, val_data))\n",
    "        X = X.reshape([X.shape[0], -1])\n",
    "        X = X = PCA(n_components=3000).fit_transform(X)\n",
    "        y = np.concatenate((train_labels, val_labels))\n",
    "        return X, y\n",
    "X, y = load_data_PbN(data_dir)\n",
    "print(X.shape)\n",
    "print(y.shape)\n",
    "X_train, X_test, y_train, y_test = model_selection.train_test_split(X,y, shuffle=True, random_state=2)\n",
    "print(y_train[:20])\n",
    "print(y_test[:20])"
   ]
  },
  {
   "cell_type": "markdown",
   "metadata": {},
   "source": [
    "## 2.使用SVM进行分类\n",
    "* 分类策略为：one-vs-rest\n",
    "* 核函数为：radial basis function"
   ]
  },
  {
   "cell_type": "code",
   "execution_count": 5,
   "metadata": {
    "collapsed": false
   },
   "outputs": [
    {
     "name": "stdout",
     "output_type": "stream",
     "text": [
      "[LibSVM]"
     ]
    },
    {
     "data": {
      "text/plain": [
       "SVC(C=1.0, cache_size=200, class_weight=None, coef0=0.0,\n",
       "  decision_function_shape='ovr', degree=3, gamma='auto', kernel='rbf',\n",
       "  max_iter=-1, probability=False, random_state=None, shrinking=True,\n",
       "  tol=0.001, verbose=2)"
      ]
     },
     "execution_count": 5,
     "metadata": {},
     "output_type": "execute_result"
    }
   ],
   "source": [
    "clf = svm.SVC(decision_function_shape='ovr', verbose=2, kernel='rbf')\n",
    "clf.fit(X_train, y_train) "
   ]
  },
  {
   "cell_type": "markdown",
   "metadata": {},
   "source": [
    "## 3.预测结果"
   ]
  },
  {
   "cell_type": "code",
   "execution_count": 6,
   "metadata": {
    "collapsed": false
   },
   "outputs": [
    {
     "name": "stdout",
     "output_type": "stream",
     "text": [
      "[3 1 3 ..., 1 1 1]\n",
      "[3 1 4 ..., 3 2 1]\n",
      "0.342050929112\n",
      "             precision    recall  f1-score   support\n",
      "\n",
      "          0       0.25      0.00      0.01       238\n",
      "          1       0.32      0.94      0.47       431\n",
      "          2       0.75      0.04      0.07       257\n",
      "          3       0.50      0.31      0.38       230\n",
      "          4       0.50      0.01      0.03       154\n",
      "          5       0.80      0.06      0.10       143\n",
      "\n",
      "avg / total       0.48      0.34      0.23      1453\n",
      "\n"
     ]
    }
   ],
   "source": [
    "predicts = clf.predict(X_test)\n",
    "print(predicts)\n",
    "print(y_test)\n",
    "ac_score = metrics.accuracy_score(y_test, predicts)  \n",
    "cl_report = metrics.classification_report(y_test, predicts)  \n",
    "print(ac_score)\n",
    "print(cl_report)"
   ]
  },
  {
   "cell_type": "code",
   "execution_count": null,
   "metadata": {
    "collapsed": true
   },
   "outputs": [],
   "source": []
  }
 ],
 "metadata": {
  "kernelspec": {
   "display_name": "Python 2",
   "language": "python",
   "name": "python2"
  },
  "language_info": {
   "codemirror_mode": {
    "name": "ipython",
    "version": 2
   },
   "file_extension": ".py",
   "mimetype": "text/x-python",
   "name": "python",
   "nbconvert_exporter": "python",
   "pygments_lexer": "ipython2",
   "version": "2.7.13"
  }
 },
 "nbformat": 4,
 "nbformat_minor": 2
}
