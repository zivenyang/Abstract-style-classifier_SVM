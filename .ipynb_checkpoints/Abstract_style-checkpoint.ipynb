{
 "cells": [
  {
   "cell_type": "markdown",
   "metadata": {},
   "source": [
    "# 抽象图像风格分类（SVM版本）\n",
    "## 1.载入数据"
   ]
  },
  {
   "cell_type": "code",
   "execution_count": 1,
   "metadata": {
    "collapsed": false
   },
   "outputs": [],
   "source": [
    "from sklearn import svm, model_selection, metrics\n",
    "from sklearn.model_selection import StratifiedKFold, ParameterGrid\n",
    "from sklearn.decomposition import PCA\n",
    "import numpy as np\n",
    "import os"
   ]
  },
  {
   "cell_type": "code",
   "execution_count": 5,
   "metadata": {
    "collapsed": false
   },
   "outputs": [],
   "source": [
    "data_dir = \"/media/ziven/My Passport/Dataset/Painter by Numbers/140x140_style/\"\n",
    "\n",
    "\n",
    "def load_data_PbN(PbN_dir, n_components):\n",
    "        \"\"\"load Pinter by Numbers dataset\"\"\"\n",
    "        train_images_Abstract_Art = np.load(os.path.join(PbN_dir, 'style_train_images_Abstract_Art.npy'))\n",
    "        train_images_Abstract_Expressionism = np.load(os.path.join(PbN_dir, 'style_train_images_Abstract_Expressionism.npy'))\n",
    "        train_images_Art_Informel = np.load(os.path.join(PbN_dir, 'style_train_images_Art_Informel.npy'))\n",
    "        train_images_Color_Field_Painting = np.load(os.path.join(PbN_dir, 'style_train_images_Color_Field_Painting.npy'))\n",
    "        train_images_Lyrical_Abstraction = np.load(os.path.join(PbN_dir, 'style_train_images_Lyrical_Abstraction.npy'))\n",
    "        train_images_Concretism = np.load(os.path.join(PbN_dir, 'style_train_images_Concretism.npy'))\n",
    "        train_data = np.concatenate((train_images_Abstract_Art, train_images_Abstract_Expressionism,\n",
    "                                     train_images_Art_Informel, train_images_Color_Field_Painting,\n",
    "                                     train_images_Lyrical_Abstraction, train_images_Concretism))\n",
    "\n",
    "        train_labels_Abstract_Art = [0 for i in range(train_images_Abstract_Art.shape[0])]\n",
    "        train_labels_Abstract_Expressionism = [1 for j in range(train_images_Abstract_Expressionism.shape[0])]\n",
    "        train_labels_Art_Informel = [2 for k in range(train_images_Art_Informel.shape[0])]\n",
    "        train_labels_Color_Field_Painting = [3 for l in range(train_images_Color_Field_Painting.shape[0])]\n",
    "        train_labels_Lyrical_Abstraction = [4 for i1 in range(train_images_Lyrical_Abstraction.shape[0])]\n",
    "        train_labels_Concretism = [5 for i2 in range(train_images_Concretism.shape[0])]\n",
    "        train_labels = np.concatenate((train_labels_Abstract_Art, train_labels_Abstract_Expressionism,\n",
    "                          train_labels_Art_Informel, train_labels_Color_Field_Painting,\n",
    "                          train_labels_Lyrical_Abstraction, train_labels_Concretism))\n",
    "\n",
    "        test_images_Abstract_Art = np.load(os.path.join(PbN_dir, 'style_test_images_Abstract_Art.npy'))\n",
    "        test_images_Abstract_Expressionism = np.load(os.path.join(PbN_dir, 'style_test_images_Abstract_Expressionism.npy'))\n",
    "        test_images_Art_Informel = np.load(os.path.join(PbN_dir, 'style_test_images_Art_Informel.npy'))\n",
    "        test_images_Color_Field_Painting = np.load(os.path.join(PbN_dir, 'style_test_images_Color_Field_Painting.npy'))\n",
    "        test_images_Lyrical_Abstraction = np.load(os.path.join(PbN_dir, 'style_test_images_Lyrical_Abstraction.npy'))\n",
    "        test_images_Concretism = np.load(os.path.join(PbN_dir, 'style_test_images_Concretism.npy'))\n",
    "        val_data = np.concatenate((test_images_Abstract_Art, test_images_Abstract_Expressionism,\n",
    "                                   test_images_Art_Informel, test_images_Color_Field_Painting,\n",
    "                                   test_images_Lyrical_Abstraction, test_images_Concretism))\n",
    "\n",
    "        val_labels_Abstract_Art = [0 for m in range(test_images_Abstract_Art.shape[0])]\n",
    "        val_labels_Abstract_Expressionism = [1 for n in range(test_images_Abstract_Expressionism.shape[0])]\n",
    "        val_labels_Art_Informel = [2 for p in range(test_images_Art_Informel.shape[0])]\n",
    "        val_labels_Color_Field_Painting = [3 for q in range(test_images_Color_Field_Painting.shape[0])]\n",
    "        val_labels_Lyrical_Abstraction = [4 for j1 in range(test_images_Lyrical_Abstraction.shape[0])]\n",
    "        val_labels_Concretism = [5 for j2 in range(test_images_Concretism.shape[0])]\n",
    "        val_labels = np.concatenate((val_labels_Abstract_Art, val_labels_Abstract_Expressionism,\n",
    "                              val_labels_Art_Informel, val_labels_Color_Field_Painting,\n",
    "                              val_labels_Lyrical_Abstraction, val_labels_Concretism))\n",
    "\n",
    "        X = np.concatenate((train_data, val_data))\n",
    "        X = X.reshape([X.shape[0], -1])\n",
    "        X = PCA(n_components=n_components).fit_transform(X)\n",
    "        print(X.shape)\n",
    "        y = np.concatenate((train_labels, val_labels))\n",
    "        return X, y"
   ]
  },
  {
   "cell_type": "markdown",
   "metadata": {},
   "source": [
    "## 2.使用SVM进行分类"
   ]
  },
  {
   "cell_type": "code",
   "execution_count": 6,
   "metadata": {
    "collapsed": true
   },
   "outputs": [],
   "source": [
    "def cross_validation(X, y, decision_function_shape='ovr', kernel='rbf', gamma=1./7000, n_splits=5):\n",
    "    skf = StratifiedKFold(n_splits=5, shuffle=True, random_state=2)\n",
    "    for train_index, val_index in skf.split(X, y):\n",
    "        clf = svm.SVC(decision_function_shape='ovr', verbose=2, kernel=kernel, gamma=gamma)\n",
    "        clf.fit(X[train_index], y[train_index]) \n",
    "        predicts = clf.predict(X[val_index])\n",
    "        print(predicts)\n",
    "        print(y[val_index])\n",
    "        ac_score = metrics.accuracy_score(y[val_index], predicts)  \n",
    "        cl_report = metrics.classification_report(y[val_index], predicts)  \n",
    "        print(ac_score)\n",
    "        print(cl_report)"
   ]
  },
  {
   "cell_type": "markdown",
   "metadata": {},
   "source": [
    "### 2.1 参数设置\n",
    "* n_components：PCA降维后的维度\n",
    "* decision_function_shape：多分类SVM的策略\n",
    "* kernel：SVM的核函数\n",
    "* gamma：RBF核的参数\n",
    "* n_splits：交叉验证的折数"
   ]
  },
  {
   "cell_type": "code",
   "execution_count": 7,
   "metadata": {
    "collapsed": true
   },
   "outputs": [],
   "source": [
    "n_components = 0.95\n",
    "decision_function_shape = 'ovr'\n",
    "kernel = 'rbf'\n",
    "gamma = 1./7000\n",
    "n_splits = 5"
   ]
  },
  {
   "cell_type": "markdown",
   "metadata": {},
   "source": [
    "### 2.2 进行交叉验证"
   ]
  },
  {
   "cell_type": "code",
   "execution_count": 8,
   "metadata": {
    "collapsed": false
   },
   "outputs": [
    {
     "name": "stdout",
     "output_type": "stream",
     "text": [
      "(5812, 1101)\n",
      "[LibSVM][1 1 1 ..., 1 1 1]\n",
      "[0 0 0 ..., 5 5 5]\n",
      "0.33676975945\n",
      "             precision    recall  f1-score   support\n",
      "\n",
      "          0       0.00      0.00      0.00       184\n",
      "          1       0.32      0.97      0.48       352\n",
      "          2       0.00      0.00      0.00       208\n",
      "          3       0.54      0.25      0.34       181\n",
      "          4       0.00      0.00      0.00       127\n",
      "          5       1.00      0.06      0.12       112\n",
      "\n",
      "avg / total       0.28      0.34      0.21      1164\n",
      "\n",
      "[LibSVM]"
     ]
    },
    {
     "name": "stderr",
     "output_type": "stream",
     "text": [
      "/home/ziven/anaconda2/lib/python2.7/site-packages/sklearn/metrics/classification.py:1135: UndefinedMetricWarning: Precision and F-score are ill-defined and being set to 0.0 in labels with no predicted samples.\n",
      "  'precision', 'predicted', average, warn_for)\n"
     ]
    },
    {
     "name": "stdout",
     "output_type": "stream",
     "text": [
      "[1 1 1 ..., 1 1 1]\n",
      "[0 0 0 ..., 5 5 5]\n",
      "0.328460877042\n",
      "             precision    recall  f1-score   support\n",
      "\n",
      "          0       0.50      0.01      0.01       184\n",
      "          1       0.31      0.93      0.47       352\n",
      "          2       0.00      0.00      0.00       208\n",
      "          3       0.46      0.27      0.34       181\n",
      "          4       0.00      0.00      0.00       126\n",
      "          5       1.00      0.04      0.09       112\n",
      "\n",
      "avg / total       0.34      0.33      0.20      1163\n",
      "\n",
      "[LibSVM][1 1 1 ..., 1 1 3]\n",
      "[0 0 0 ..., 5 5 5]\n",
      "0.326741186586\n",
      "             precision    recall  f1-score   support\n",
      "\n",
      "          0       0.00      0.00      0.00       184\n",
      "          1       0.31      0.95      0.47       352\n",
      "          2       0.00      0.00      0.00       208\n",
      "          3       0.47      0.24      0.32       181\n",
      "          4       0.00      0.00      0.00       126\n",
      "          5       0.75      0.03      0.05       112\n",
      "\n",
      "avg / total       0.24      0.33      0.20      1163\n",
      "\n",
      "[LibSVM][1 1 1 ..., 1 1 1]\n",
      "[0 0 0 ..., 5 5 5]\n",
      "0.335628227194\n",
      "             precision    recall  f1-score   support\n",
      "\n",
      "          0       0.00      0.00      0.00       183\n",
      "          1       0.32      0.96      0.48       352\n",
      "          2       0.00      0.00      0.00       208\n",
      "          3       0.55      0.25      0.34       181\n",
      "          4       0.00      0.00      0.00       126\n",
      "          5       0.44      0.06      0.11       112\n",
      "\n",
      "avg / total       0.22      0.34      0.21      1162\n",
      "\n",
      "[LibSVM][1 1 1 ..., 1 1 1]\n",
      "[0 0 0 ..., 5 5 5]\n",
      "0.330172413793\n",
      "             precision    recall  f1-score   support\n",
      "\n",
      "          0       0.00      0.00      0.00       183\n",
      "          1       0.32      0.95      0.47       351\n",
      "          2       0.00      0.00      0.00       208\n",
      "          3       0.42      0.23      0.29       181\n",
      "          4       0.00      0.00      0.00       126\n",
      "          5       1.00      0.09      0.17       111\n",
      "\n",
      "avg / total       0.26      0.33      0.20      1160\n",
      "\n"
     ]
    }
   ],
   "source": [
    "X, y = load_data_PbN(data_dir, n_components)\n",
    "cross_validation(X, y, decision_function_shape, kernel, gamma, n_splits)"
   ]
  },
  {
   "cell_type": "code",
   "execution_count": 9,
   "metadata": {
    "collapsed": true
   },
   "outputs": [],
   "source": [
    "n_components = 0.95\n",
    "decision_function_shape = 'ovr'\n",
    "kernel = 'sigmoid'\n",
    "gamma = 1./7000\n",
    "n_splits = 5"
   ]
  },
  {
   "cell_type": "code",
   "execution_count": 11,
   "metadata": {
    "collapsed": false
   },
   "outputs": [
    {
     "name": "stdout",
     "output_type": "stream",
     "text": [
      "[LibSVM][0 3 0 ..., 2 1 3]\n",
      "[0 0 0 ..., 5 5 5]\n",
      "0.248281786942\n",
      "             precision    recall  f1-score   support\n",
      "\n",
      "          0       0.19      0.18      0.19       184\n",
      "          1       0.31      0.44      0.36       352\n",
      "          2       0.20      0.42      0.27       208\n",
      "          3       0.33      0.07      0.12       181\n",
      "          4       0.00      0.00      0.00       127\n",
      "          5       0.00      0.00      0.00       112\n",
      "\n",
      "avg / total       0.21      0.25      0.21      1164\n",
      "\n",
      "[LibSVM][4 1 0 ..., 3 0 4]\n",
      "[0 0 0 ..., 5 5 5]\n",
      "0.21668099742\n",
      "             precision    recall  f1-score   support\n",
      "\n",
      "          0       0.17      0.35      0.23       184\n",
      "          1       0.30      0.38      0.34       352\n",
      "          2       0.23      0.01      0.03       208\n",
      "          3       0.32      0.12      0.17       181\n",
      "          4       0.12      0.20      0.15       126\n",
      "          5       0.08      0.04      0.06       112\n",
      "\n",
      "avg / total       0.23      0.22      0.19      1163\n",
      "\n",
      "[LibSVM][1 0 0 ..., 1 0 0]\n",
      "[0 0 0 ..., 5 5 5]\n",
      "0.217540842648\n",
      "             precision    recall  f1-score   support\n",
      "\n",
      "          0       0.14      0.33      0.20       184\n",
      "          1       0.31      0.42      0.36       352\n",
      "          2       0.15      0.18      0.17       208\n",
      "          3       0.44      0.04      0.07       181\n",
      "          4       0.00      0.00      0.00       126\n",
      "          5       0.00      0.00      0.00       112\n",
      "\n",
      "avg / total       0.21      0.22      0.18      1163\n",
      "\n",
      "[LibSVM][1 1 1 ..., 1 0 2]\n",
      "[0 0 0 ..., 5 5 5]\n",
      "0.252151462995\n",
      "             precision    recall  f1-score   support\n",
      "\n",
      "          0       0.20      0.07      0.10       183\n",
      "          1       0.29      0.62      0.39       352\n",
      "          2       0.16      0.25      0.20       208\n",
      "          3       0.58      0.06      0.11       181\n",
      "          4       0.00      0.00      0.00       126\n",
      "          5       0.00      0.00      0.00       112\n",
      "\n",
      "avg / total       0.24      0.25      0.19      1162\n",
      "\n",
      "[LibSVM][1 2 1 ..., 1 2 1]\n",
      "[0 0 0 ..., 5 5 5]\n",
      "0.265517241379\n",
      "             precision    recall  f1-score   support\n",
      "\n",
      "          0       0.20      0.03      0.05       183\n",
      "          1       0.32      0.64      0.43       351\n",
      "          2       0.18      0.37      0.24       208\n",
      "          3       0.30      0.02      0.03       181\n",
      "          4       0.00      0.00      0.00       126\n",
      "          5       0.00      0.00      0.00       111\n",
      "\n",
      "avg / total       0.21      0.27      0.18      1160\n",
      "\n"
     ]
    }
   ],
   "source": [
    "cross_validation(X, y, decision_function_shape, kernel, gamma, n_splits)"
   ]
  },
  {
   "cell_type": "code",
   "execution_count": null,
   "metadata": {
    "collapsed": true
   },
   "outputs": [],
   "source": []
  }
 ],
 "metadata": {
  "kernelspec": {
   "display_name": "Python 2",
   "language": "python",
   "name": "python2"
  },
  "language_info": {
   "codemirror_mode": {
    "name": "ipython",
    "version": 2
   },
   "file_extension": ".py",
   "mimetype": "text/x-python",
   "name": "python",
   "nbconvert_exporter": "python",
   "pygments_lexer": "ipython2",
   "version": "2.7.13"
  }
 },
 "nbformat": 4,
 "nbformat_minor": 2
}
