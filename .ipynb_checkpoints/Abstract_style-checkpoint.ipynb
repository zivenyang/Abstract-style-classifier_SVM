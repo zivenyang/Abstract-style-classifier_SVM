{
 "cells": [
  {
   "cell_type": "markdown",
   "metadata": {},
   "source": [
    "# 抽象图像风格分类（SVM版本）\n",
    "## 1.载入数据"
   ]
  },
  {
   "cell_type": "code",
   "execution_count": 1,
   "metadata": {
    "collapsed": false
   },
   "outputs": [],
   "source": [
    "from sklearn import svm, model_selection, metrics\n",
    "from sklearn.model_selection import StratifiedKFold, ParameterGrid\n",
    "from sklearn.decomposition import PCA\n",
    "import numpy as np\n",
    "import os"
   ]
  },
  {
   "cell_type": "code",
   "execution_count": 2,
   "metadata": {
    "collapsed": false
   },
   "outputs": [],
   "source": [
    "data_dir = \"/media/ziven/My Passport/Dataset/Painter by Numbers/140x140_style/\"\n",
    "\n",
    "\n",
    "def load_data_PbN(PbN_dir, n_components):\n",
    "        \"\"\"load Pinter by Numbers dataset\"\"\"\n",
    "        train_images_Abstract_Art = np.load(os.path.join(PbN_dir, 'style_train_images_Abstract_Art.npy'))\n",
    "        train_images_Abstract_Expressionism = np.load(os.path.join(PbN_dir, 'style_train_images_Abstract_Expressionism.npy'))\n",
    "        train_images_Art_Informel = np.load(os.path.join(PbN_dir, 'style_train_images_Art_Informel.npy'))\n",
    "        train_images_Color_Field_Painting = np.load(os.path.join(PbN_dir, 'style_train_images_Color_Field_Painting.npy'))\n",
    "        train_images_Lyrical_Abstraction = np.load(os.path.join(PbN_dir, 'style_train_images_Lyrical_Abstraction.npy'))\n",
    "        train_images_Concretism = np.load(os.path.join(PbN_dir, 'style_train_images_Concretism.npy'))\n",
    "        train_data = np.concatenate((train_images_Abstract_Art, train_images_Abstract_Expressionism,\n",
    "                                     train_images_Art_Informel, train_images_Color_Field_Painting,\n",
    "                                     train_images_Lyrical_Abstraction, train_images_Concretism))\n",
    "\n",
    "        train_labels_Abstract_Art = [0 for i in range(train_images_Abstract_Art.shape[0])]\n",
    "        train_labels_Abstract_Expressionism = [1 for j in range(train_images_Abstract_Expressionism.shape[0])]\n",
    "        train_labels_Art_Informel = [2 for k in range(train_images_Art_Informel.shape[0])]\n",
    "        train_labels_Color_Field_Painting = [3 for l in range(train_images_Color_Field_Painting.shape[0])]\n",
    "        train_labels_Lyrical_Abstraction = [4 for i1 in range(train_images_Lyrical_Abstraction.shape[0])]\n",
    "        train_labels_Concretism = [5 for i2 in range(train_images_Concretism.shape[0])]\n",
    "        train_labels = np.concatenate((train_labels_Abstract_Art, train_labels_Abstract_Expressionism,\n",
    "                          train_labels_Art_Informel, train_labels_Color_Field_Painting,\n",
    "                          train_labels_Lyrical_Abstraction, train_labels_Concretism))\n",
    "\n",
    "        test_images_Abstract_Art = np.load(os.path.join(PbN_dir, 'style_test_images_Abstract_Art.npy'))\n",
    "        test_images_Abstract_Expressionism = np.load(os.path.join(PbN_dir, 'style_test_images_Abstract_Expressionism.npy'))\n",
    "        test_images_Art_Informel = np.load(os.path.join(PbN_dir, 'style_test_images_Art_Informel.npy'))\n",
    "        test_images_Color_Field_Painting = np.load(os.path.join(PbN_dir, 'style_test_images_Color_Field_Painting.npy'))\n",
    "        test_images_Lyrical_Abstraction = np.load(os.path.join(PbN_dir, 'style_test_images_Lyrical_Abstraction.npy'))\n",
    "        test_images_Concretism = np.load(os.path.join(PbN_dir, 'style_test_images_Concretism.npy'))\n",
    "        val_data = np.concatenate((test_images_Abstract_Art, test_images_Abstract_Expressionism,\n",
    "                                   test_images_Art_Informel, test_images_Color_Field_Painting,\n",
    "                                   test_images_Lyrical_Abstraction, test_images_Concretism))\n",
    "\n",
    "        val_labels_Abstract_Art = [0 for m in range(test_images_Abstract_Art.shape[0])]\n",
    "        val_labels_Abstract_Expressionism = [1 for n in range(test_images_Abstract_Expressionism.shape[0])]\n",
    "        val_labels_Art_Informel = [2 for p in range(test_images_Art_Informel.shape[0])]\n",
    "        val_labels_Color_Field_Painting = [3 for q in range(test_images_Color_Field_Painting.shape[0])]\n",
    "        val_labels_Lyrical_Abstraction = [4 for j1 in range(test_images_Lyrical_Abstraction.shape[0])]\n",
    "        val_labels_Concretism = [5 for j2 in range(test_images_Concretism.shape[0])]\n",
    "        val_labels = np.concatenate((val_labels_Abstract_Art, val_labels_Abstract_Expressionism,\n",
    "                              val_labels_Art_Informel, val_labels_Color_Field_Painting,\n",
    "                              val_labels_Lyrical_Abstraction, val_labels_Concretism))\n",
    "\n",
    "        X = np.concatenate((train_data, val_data))\n",
    "        X = X.reshape([X.shape[0], -1])\n",
    "        y = np.concatenate((train_labels, val_labels))\n",
    "        return X, y"
   ]
  },
  {
   "cell_type": "markdown",
   "metadata": {},
   "source": [
    "## 2.使用SVM进行分类"
   ]
  },
  {
   "cell_type": "code",
   "execution_count": 16,
   "metadata": {
    "collapsed": true
   },
   "outputs": [],
   "source": [
    "def cross_validation(X, y, decision_function_shape='ovr', kernel='rbf', n_splits=5):\n",
    "    skf = StratifiedKFold(n_splits=5, shuffle=True, random_state=2)\n",
    "    avg_accuracy = []\n",
    "    avg_precision = []\n",
    "    avg_recall = []\n",
    "    avg_f_score = []\n",
    "    for train_index, val_index in skf.split(X, y):\n",
    "        pca = PCA(n_components=n_components)\n",
    "        X_train = pca.fit_transform(X[train_index])\n",
    "        X_val = pca.transform(X[val_index])\n",
    "        print(\"X_train shape:\", X_train.shape)\n",
    "        print(\"X_val shape:\", X_val.shape)        \n",
    "        clf = svm.SVC(decision_function_shape='ovr', verbose=2, kernel=kernel)\n",
    "        clf.fit(X_train, y[train_index]) \n",
    "        predicts = clf.predict(X_val)\n",
    "        print(predicts)\n",
    "        print(y[val_index])\n",
    "        ac_score = metrics.accuracy_score(y[val_index], predicts)  \n",
    "        cl_report = metrics.classification_report(y[val_index], predicts)\n",
    "        precision = metrics.precision_score(y[val_index], predicts, average=\"macro\")\n",
    "        recall = metrics.recall_score(y[val_index], predicts, average=\"macro\")\n",
    "        f_score = metrics.f1_score(y[val_index], predicts, average=\"macro\")\n",
    "        \n",
    "        avg_accuracy.append(ac_score)\n",
    "        avg_precision.append(precision)\n",
    "        avg_recall.append(recall)\n",
    "        avg_f_score.append(f_score)\n",
    "        \n",
    "        print(ac_score)\n",
    "        print(cl_report)\n",
    "        print(precision)\n",
    "        print(recall)\n",
    "        print(f_score)\n",
    "    avg_acc = np.average(avg_accuracy)\n",
    "    avg_p = np.average(avg_precision)\n",
    "    avg_r = np.average(avg_recall)\n",
    "    avg_f = np.average(avg_f_score)\n",
    "    print(\"avg_acc:\", avg_acc)\n",
    "    print(\"avg_p:\", avg_p)\n",
    "    print(\"avg_r:\", avg_r)\n",
    "    print(\"avg_f:\", avg_f)"
   ]
  },
  {
   "cell_type": "markdown",
   "metadata": {},
   "source": [
    "### 2.1 参数设置\n",
    "* n_components：PCA降维后的维度\n",
    "* decision_function_shape：多分类SVM的策略\n",
    "* kernel：SVM的核函数\n",
    "* gamma：RBF核的参数\n",
    "* n_splits：交叉验证的折数"
   ]
  },
  {
   "cell_type": "markdown",
   "metadata": {},
   "source": [
    "### 2.2 进行交叉验证"
   ]
  },
  {
   "cell_type": "code",
   "execution_count": 8,
   "metadata": {
    "collapsed": false
   },
   "outputs": [],
   "source": [
    "X, y = load_data_PbN(data_dir, n_components)"
   ]
  },
  {
   "cell_type": "code",
   "execution_count": 7,
   "metadata": {
    "collapsed": true
   },
   "outputs": [],
   "source": [
    "n_components = 0.95\n",
    "decision_function_shape = 'ovr'\n",
    "kernel = 'rbf'\n",
    "n_splits = 5"
   ]
  },
  {
   "cell_type": "code",
   "execution_count": 9,
   "metadata": {
    "collapsed": false
   },
   "outputs": [
    {
     "name": "stdout",
     "output_type": "stream",
     "text": [
      "('X_train shape:', (4648, 981))\n",
      "('X_val shape:', (1164, 981))\n",
      "[LibSVM][1 1 1 ..., 1 1 1]\n",
      "[0 0 0 ..., 5 5 5]\n",
      "0.337628865979\n",
      "             precision    recall  f1-score   support\n",
      "\n",
      "          0       1.00      0.01      0.01       184\n",
      "          1       0.32      0.95      0.47       352\n",
      "          2       0.35      0.04      0.07       208\n",
      "          3       0.57      0.23      0.32       181\n",
      "          4       1.00      0.04      0.08       127\n",
      "          5       0.57      0.04      0.07       112\n",
      "\n",
      "avg / total       0.57      0.34      0.22      1164\n",
      "\n",
      "0.337628865979\n",
      "0.337628865979\n",
      "0.337628865979\n",
      "('X_train shape:', (4649, 988))\n",
      "('X_val shape:', (1163, 988))\n",
      "[LibSVM][1 1 1 ..., 1 1 1]\n",
      "[0 0 0 ..., 5 5 5]\n",
      "0.337059329321\n",
      "             precision    recall  f1-score   support\n",
      "\n",
      "          0       0.00      0.00      0.00       184\n",
      "          1       0.32      0.93      0.47       352\n",
      "          2       0.42      0.08      0.13       208\n",
      "          3       0.54      0.23      0.32       181\n",
      "          4       0.25      0.01      0.02       126\n",
      "          5       0.70      0.06      0.11       112\n",
      "\n",
      "avg / total       0.35      0.34      0.23      1163\n",
      "\n",
      "0.337059329321\n",
      "0.337059329321\n",
      "0.337059329321\n"
     ]
    },
    {
     "name": "stderr",
     "output_type": "stream",
     "text": [
      "/home/ziven/anaconda2/lib/python2.7/site-packages/sklearn/metrics/classification.py:1135: UndefinedMetricWarning: Precision and F-score are ill-defined and being set to 0.0 in labels with no predicted samples.\n",
      "  'precision', 'predicted', average, warn_for)\n"
     ]
    },
    {
     "name": "stdout",
     "output_type": "stream",
     "text": [
      "('X_train shape:', (4649, 982))\n",
      "('X_val shape:', (1163, 982))\n",
      "[LibSVM][1 1 1 ..., 1 5 3]\n",
      "[0 0 0 ..., 5 5 5]\n",
      "0.337059329321\n",
      "             precision    recall  f1-score   support\n",
      "\n",
      "          0       0.50      0.01      0.02       184\n",
      "          1       0.32      0.93      0.48       352\n",
      "          2       0.42      0.05      0.09       208\n",
      "          3       0.48      0.23      0.31       181\n",
      "          4       0.38      0.02      0.04       126\n",
      "          5       0.35      0.05      0.09       112\n",
      "\n",
      "avg / total       0.40      0.34      0.23      1163\n",
      "\n",
      "0.337059329321\n",
      "0.337059329321\n",
      "0.337059329321\n",
      "('X_train shape:', (4650, 978))\n",
      "('X_val shape:', (1162, 978))\n",
      "[LibSVM][1 1 1 ..., 1 3 1]\n",
      "[0 0 0 ..., 5 5 5]\n",
      "0.334767641997\n",
      "             precision    recall  f1-score   support\n",
      "\n",
      "          0       1.00      0.01      0.02       183\n",
      "          1       0.32      0.93      0.47       352\n",
      "          2       0.62      0.05      0.09       208\n",
      "          3       0.57      0.23      0.33       181\n",
      "          4       0.09      0.01      0.01       126\n",
      "          5       0.25      0.04      0.08       112\n",
      "\n",
      "avg / total       0.49      0.33      0.22      1162\n",
      "\n",
      "0.334767641997\n",
      "0.334767641997\n",
      "0.334767641997\n",
      "('X_train shape:', (4652, 992))\n",
      "('X_val shape:', (1160, 992))\n",
      "[LibSVM][1 1 1 ..., 1 1 1]\n",
      "[0 0 0 ..., 5 5 5]\n",
      "0.331896551724\n",
      "             precision    recall  f1-score   support\n",
      "\n",
      "          0       0.17      0.01      0.01       183\n",
      "          1       0.31      0.91      0.47       351\n",
      "          2       0.58      0.09      0.15       208\n",
      "          3       0.42      0.21      0.28       181\n",
      "          4       0.33      0.01      0.02       126\n",
      "          5       0.56      0.08      0.14       111\n",
      "\n",
      "avg / total       0.38      0.33      0.23      1160\n",
      "\n",
      "0.331896551724\n",
      "0.331896551724\n",
      "0.331896551724\n"
     ]
    }
   ],
   "source": [
    "cross_validation(X, y, decision_function_shape, kernel, n_splits)"
   ]
  },
  {
   "cell_type": "code",
   "execution_count": 10,
   "metadata": {
    "collapsed": true
   },
   "outputs": [],
   "source": [
    "n_components = 0.99\n",
    "decision_function_shape = 'ovr'\n",
    "kernel = 'rbf'\n",
    "n_splits = 5"
   ]
  },
  {
   "cell_type": "code",
   "execution_count": 11,
   "metadata": {
    "collapsed": false
   },
   "outputs": [
    {
     "name": "stdout",
     "output_type": "stream",
     "text": [
      "('X_train shape:', (4648, 2423))\n",
      "('X_val shape:', (1164, 2423))\n",
      "[LibSVM][1 2 1 ..., 1 1 1]\n",
      "[0 0 0 ..., 5 5 5]\n",
      "0.346219931271\n",
      "             precision    recall  f1-score   support\n",
      "\n",
      "          0       0.40      0.01      0.02       184\n",
      "          1       0.32      0.93      0.48       352\n",
      "          2       0.33      0.03      0.05       208\n",
      "          3       0.51      0.30      0.38       181\n",
      "          4       0.40      0.02      0.03       127\n",
      "          5       0.71      0.09      0.16       112\n",
      "\n",
      "avg / total       0.41      0.35      0.24      1164\n",
      "\n",
      "0.346219931271\n",
      "0.346219931271\n",
      "0.346219931271\n",
      "('X_train shape:', (4649, 2418))\n",
      "('X_val shape:', (1163, 2418))\n",
      "[LibSVM][1 1 0 ..., 1 1 1]\n",
      "[0 0 0 ..., 5 5 5]\n",
      "0.345657781599\n",
      "             precision    recall  f1-score   support\n",
      "\n",
      "          0       0.50      0.01      0.02       184\n",
      "          1       0.32      0.91      0.48       352\n",
      "          2       0.53      0.04      0.07       208\n",
      "          3       0.47      0.34      0.39       181\n",
      "          4       0.67      0.02      0.03       126\n",
      "          5       0.88      0.06      0.12       112\n",
      "\n",
      "avg / total       0.50      0.35      0.24      1163\n",
      "\n",
      "0.345657781599\n",
      "0.345657781599\n",
      "0.345657781599\n",
      "('X_train shape:', (4649, 2420))\n",
      "('X_val shape:', (1163, 2420))\n",
      "[LibSVM][1 1 1 ..., 1 1 3]\n",
      "[0 0 0 ..., 5 5 5]\n",
      "0.331900257954\n",
      "             precision    recall  f1-score   support\n",
      "\n",
      "          0       0.45      0.03      0.05       184\n",
      "          1       0.32      0.89      0.47       352\n",
      "          2       0.44      0.02      0.04       208\n",
      "          3       0.41      0.31      0.36       181\n",
      "          4       0.25      0.02      0.03       126\n",
      "          5       0.36      0.04      0.08       112\n",
      "\n",
      "avg / total       0.37      0.33      0.22      1163\n",
      "\n",
      "0.331900257954\n",
      "0.331900257954\n",
      "0.331900257954\n",
      "('X_train shape:', (4650, 2422))\n",
      "('X_val shape:', (1162, 2422))\n",
      "[LibSVM][1 1 1 ..., 1 3 1]\n",
      "[0 0 0 ..., 5 5 5]\n",
      "0.339931153184\n",
      "             precision    recall  f1-score   support\n",
      "\n",
      "          0       1.00      0.01      0.01       183\n",
      "          1       0.32      0.92      0.48       352\n",
      "          2       0.75      0.03      0.06       208\n",
      "          3       0.52      0.30      0.38       181\n",
      "          4       0.20      0.02      0.03       126\n",
      "          5       0.27      0.06      0.10       112\n",
      "\n",
      "avg / total       0.52      0.34      0.23      1162\n",
      "\n",
      "0.339931153184\n",
      "0.339931153184\n",
      "0.339931153184\n",
      "('X_train shape:', (4652, 2427))\n",
      "('X_val shape:', (1160, 2427))\n",
      "[LibSVM][1 1 1 ..., 1 1 1]\n",
      "[0 0 0 ..., 5 5 5]\n",
      "0.337068965517\n",
      "             precision    recall  f1-score   support\n",
      "\n",
      "          0       0.00      0.00      0.00       183\n",
      "          1       0.32      0.90      0.47       351\n",
      "          2       0.46      0.03      0.05       208\n",
      "          3       0.43      0.30      0.36       181\n",
      "          4       0.25      0.01      0.02       126\n",
      "          5       0.81      0.12      0.20       111\n",
      "\n",
      "avg / total       0.35      0.34      0.23      1160\n",
      "\n",
      "0.337068965517\n",
      "0.337068965517\n",
      "0.337068965517\n"
     ]
    }
   ],
   "source": [
    "cross_validation(X, y, decision_function_shape, kernel, n_splits)"
   ]
  },
  {
   "cell_type": "code",
   "execution_count": 14,
   "metadata": {
    "collapsed": true
   },
   "outputs": [],
   "source": [
    "n_components = 0.8\n",
    "decision_function_shape = 'ovr'\n",
    "kernel = 'rbf'\n",
    "n_splits = 5"
   ]
  },
  {
   "cell_type": "code",
   "execution_count": 15,
   "metadata": {
    "collapsed": false
   },
   "outputs": [
    {
     "name": "stdout",
     "output_type": "stream",
     "text": [
      "('X_train shape:', (4648, 103))\n",
      "('X_val shape:', (1164, 103))\n",
      "[LibSVM][1 1 1 ..., 1 1 1]\n",
      "[0 0 0 ..., 5 5 5]\n",
      "0.310137457045\n",
      "             precision    recall  f1-score   support\n",
      "\n",
      "          0       1.00      0.01      0.01       184\n",
      "          1       0.31      1.00      0.47       352\n",
      "          2       1.00      0.02      0.05       208\n",
      "          3       0.75      0.02      0.03       181\n",
      "          4       0.00      0.00      0.00       127\n",
      "          5       0.00      0.00      0.00       112\n",
      "\n",
      "avg / total       0.55      0.31      0.16      1164\n",
      "\n",
      "0.509303504199\n",
      "0.174341304964\n",
      "0.0930980233839\n"
     ]
    },
    {
     "name": "stderr",
     "output_type": "stream",
     "text": [
      "/home/ziven/anaconda2/lib/python2.7/site-packages/sklearn/metrics/classification.py:1135: UndefinedMetricWarning: Precision is ill-defined and being set to 0.0 in labels with no predicted samples.\n",
      "  'precision', 'predicted', average, warn_for)\n",
      "/home/ziven/anaconda2/lib/python2.7/site-packages/sklearn/metrics/classification.py:1135: UndefinedMetricWarning: F-score is ill-defined and being set to 0.0 in labels with no predicted samples.\n",
      "  'precision', 'predicted', average, warn_for)\n"
     ]
    },
    {
     "name": "stdout",
     "output_type": "stream",
     "text": [
      "('X_train shape:', (4649, 106))\n",
      "('X_val shape:', (1163, 106))\n",
      "[LibSVM][1 1 1 ..., 1 1 1]\n",
      "[0 0 0 ..., 5 5 5]\n",
      "0.314703353396\n",
      "             precision    recall  f1-score   support\n",
      "\n",
      "          0       0.00      0.00      0.00       184\n",
      "          1       0.31      1.00      0.47       352\n",
      "          2       0.69      0.04      0.08       208\n",
      "          3       0.62      0.03      0.05       181\n",
      "          4       0.00      0.00      0.00       126\n",
      "          5       0.50      0.01      0.02       112\n",
      "\n",
      "avg / total       0.36      0.31      0.17      1163\n",
      "\n",
      "0.354200404858\n",
      "0.179496867083\n",
      "0.103735209956\n",
      "('X_train shape:', (4649, 105))\n",
      "('X_val shape:', (1163, 105))\n",
      "[LibSVM][1 1 1 ..., 1 1 1]\n",
      "[0 0 0 ..., 5 5 5]\n",
      "0.311263972485\n",
      "             precision    recall  f1-score   support\n",
      "\n",
      "          0       1.00      0.01      0.02       184\n",
      "          1       0.31      0.99      0.47       352\n",
      "          2       1.00      0.02      0.04       208\n",
      "          3       0.71      0.03      0.05       181\n",
      "          4       0.00      0.00      0.00       126\n",
      "          5       0.29      0.02      0.03       112\n",
      "\n",
      "avg / total       0.57      0.31      0.16      1163\n",
      "\n",
      "0.550889472149\n",
      "0.177843176571\n",
      "0.102155965375\n",
      "('X_train shape:', (4650, 103))\n",
      "('X_val shape:', (1162, 103))\n",
      "[LibSVM][1 1 1 ..., 1 1 1]\n",
      "[0 0 0 ..., 5 5 5]\n",
      "0.31669535284\n",
      "             precision    recall  f1-score   support\n",
      "\n",
      "          0       1.00      0.01      0.02       183\n",
      "          1       0.31      1.00      0.47       352\n",
      "          2       1.00      0.03      0.06       208\n",
      "          3       0.67      0.02      0.04       181\n",
      "          4       0.00      0.00      0.00       126\n",
      "          5       0.67      0.04      0.07       112\n",
      "\n",
      "avg / total       0.60      0.32      0.17      1162\n",
      "\n",
      "0.606927417786\n",
      "0.182931474804\n",
      "0.109915325495\n",
      "('X_train shape:', (4652, 105))\n",
      "('X_val shape:', (1160, 105))\n",
      "[LibSVM][1 1 1 ..., 1 1 1]\n",
      "[0 0 0 ..., 5 5 5]\n",
      "0.312068965517\n",
      "             precision    recall  f1-score   support\n",
      "\n",
      "          0       1.00      0.01      0.01       183\n",
      "          1       0.31      0.99      0.47       351\n",
      "          2       0.78      0.03      0.06       208\n",
      "          3       0.40      0.01      0.02       181\n",
      "          4       0.00      0.00      0.00       126\n",
      "          5       0.43      0.03      0.05       111\n",
      "\n",
      "avg / total       0.49      0.31      0.16      1160\n",
      "\n",
      "0.485504598246\n",
      "0.178582845352\n",
      "0.10275158591\n"
     ]
    },
    {
     "ename": "AttributeError",
     "evalue": "'module' object has no attribute 'averageage'",
     "output_type": "error",
     "traceback": [
      "\u001b[0;31m---------------------------------------------------------------------------\u001b[0m",
      "\u001b[0;31mAttributeError\u001b[0m                            Traceback (most recent call last)",
      "\u001b[0;32m<ipython-input-15-c3d853629af4>\u001b[0m in \u001b[0;36m<module>\u001b[0;34m()\u001b[0m\n\u001b[0;32m----> 1\u001b[0;31m \u001b[0mcross_validation\u001b[0m\u001b[0;34m(\u001b[0m\u001b[0mX\u001b[0m\u001b[0;34m,\u001b[0m \u001b[0my\u001b[0m\u001b[0;34m,\u001b[0m \u001b[0mdecision_function_shape\u001b[0m\u001b[0;34m,\u001b[0m \u001b[0mkernel\u001b[0m\u001b[0;34m,\u001b[0m \u001b[0mn_splits\u001b[0m\u001b[0;34m)\u001b[0m\u001b[0;34m\u001b[0m\u001b[0m\n\u001b[0m",
      "\u001b[0;32m<ipython-input-13-4072e09bc626>\u001b[0m in \u001b[0;36mcross_validation\u001b[0;34m(X, y, decision_function_shape, kernel, n_splits)\u001b[0m\n\u001b[1;32m     34\u001b[0m     \u001b[0mavg_acc\u001b[0m \u001b[0;34m=\u001b[0m \u001b[0mnp\u001b[0m\u001b[0;34m.\u001b[0m\u001b[0maverage\u001b[0m\u001b[0;34m(\u001b[0m\u001b[0mavg_accuracy\u001b[0m\u001b[0;34m)\u001b[0m\u001b[0;34m\u001b[0m\u001b[0m\n\u001b[1;32m     35\u001b[0m     \u001b[0mavg_p\u001b[0m \u001b[0;34m=\u001b[0m \u001b[0mnp\u001b[0m\u001b[0;34m.\u001b[0m\u001b[0maverage\u001b[0m\u001b[0;34m(\u001b[0m\u001b[0mavg_precision\u001b[0m\u001b[0;34m)\u001b[0m\u001b[0;34m\u001b[0m\u001b[0m\n\u001b[0;32m---> 36\u001b[0;31m     \u001b[0mavg_r\u001b[0m \u001b[0;34m=\u001b[0m \u001b[0mnp\u001b[0m\u001b[0;34m.\u001b[0m\u001b[0maverageage\u001b[0m\u001b[0;34m(\u001b[0m\u001b[0mavg_recall\u001b[0m\u001b[0;34m)\u001b[0m\u001b[0;34m\u001b[0m\u001b[0m\n\u001b[0m\u001b[1;32m     37\u001b[0m     \u001b[0mavg_f\u001b[0m \u001b[0;34m=\u001b[0m \u001b[0mnp\u001b[0m\u001b[0;34m.\u001b[0m\u001b[0maverage\u001b[0m\u001b[0;34m(\u001b[0m\u001b[0mavg_f_score\u001b[0m\u001b[0;34m)\u001b[0m\u001b[0;34m\u001b[0m\u001b[0m\n\u001b[1;32m     38\u001b[0m     \u001b[0;32mprint\u001b[0m\u001b[0;34m(\u001b[0m\u001b[0;34m\"avg_acc:\"\u001b[0m\u001b[0;34m,\u001b[0m \u001b[0mavg_acc\u001b[0m\u001b[0;34m)\u001b[0m\u001b[0;34m\u001b[0m\u001b[0m\n",
      "\u001b[0;31mAttributeError\u001b[0m: 'module' object has no attribute 'averageage'"
     ]
    }
   ],
   "source": [
    "cross_validation(X, y, decision_function_shape, kernel, n_splits)"
   ]
  },
  {
   "cell_type": "code",
   "execution_count": null,
   "metadata": {
    "collapsed": true
   },
   "outputs": [],
   "source": []
  }
 ],
 "metadata": {
  "kernelspec": {
   "display_name": "Python 2",
   "language": "python",
   "name": "python2"
  },
  "language_info": {
   "codemirror_mode": {
    "name": "ipython",
    "version": 2
   },
   "file_extension": ".py",
   "mimetype": "text/x-python",
   "name": "python",
   "nbconvert_exporter": "python",
   "pygments_lexer": "ipython2",
   "version": "2.7.13"
  }
 },
 "nbformat": 4,
 "nbformat_minor": 2
}
