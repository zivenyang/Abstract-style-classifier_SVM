{
 "cells": [
  {
   "cell_type": "code",
   "execution_count": 1,
   "metadata": {
    "collapsed": true
   },
   "outputs": [],
   "source": [
    "from sklearn.linear_model import LogisticRegression\n",
    "from sklearn import model_selection, metrics\n",
    "from sklearn.model_selection import StratifiedKFold, ParameterGrid\n",
    "from sklearn.decomposition import PCA\n",
    "import numpy as np\n",
    "import os"
   ]
  },
  {
   "cell_type": "code",
   "execution_count": 2,
   "metadata": {
    "collapsed": true
   },
   "outputs": [],
   "source": [
    "data_dir = \"/media/ziven/My Passport/Dataset/Painter by Numbers/140x140_style/\"\n",
    "\n",
    "\n",
    "def load_data_PbN(PbN_dir):\n",
    "        \"\"\"load Pinter by Numbers dataset\"\"\"\n",
    "        train_images_Abstract_Art = np.load(os.path.join(PbN_dir, 'style_train_images_Abstract_Art.npy'))\n",
    "        train_images_Abstract_Expressionism = np.load(os.path.join(PbN_dir, 'style_train_images_Abstract_Expressionism.npy'))\n",
    "        train_images_Art_Informel = np.load(os.path.join(PbN_dir, 'style_train_images_Art_Informel.npy'))\n",
    "        train_images_Color_Field_Painting = np.load(os.path.join(PbN_dir, 'style_train_images_Color_Field_Painting.npy'))\n",
    "        train_images_Lyrical_Abstraction = np.load(os.path.join(PbN_dir, 'style_train_images_Lyrical_Abstraction.npy'))\n",
    "        train_images_Concretism = np.load(os.path.join(PbN_dir, 'style_train_images_Concretism.npy'))\n",
    "        train_data = np.concatenate((train_images_Abstract_Art, train_images_Abstract_Expressionism,\n",
    "                                     train_images_Art_Informel, train_images_Color_Field_Painting,\n",
    "                                     train_images_Lyrical_Abstraction, train_images_Concretism))\n",
    "\n",
    "        train_labels_Abstract_Art = [0 for i in range(train_images_Abstract_Art.shape[0])]\n",
    "        train_labels_Abstract_Expressionism = [1 for j in range(train_images_Abstract_Expressionism.shape[0])]\n",
    "        train_labels_Art_Informel = [2 for k in range(train_images_Art_Informel.shape[0])]\n",
    "        train_labels_Color_Field_Painting = [3 for l in range(train_images_Color_Field_Painting.shape[0])]\n",
    "        train_labels_Lyrical_Abstraction = [4 for i1 in range(train_images_Lyrical_Abstraction.shape[0])]\n",
    "        train_labels_Concretism = [5 for i2 in range(train_images_Concretism.shape[0])]\n",
    "        train_labels = np.concatenate((train_labels_Abstract_Art, train_labels_Abstract_Expressionism,\n",
    "                          train_labels_Art_Informel, train_labels_Color_Field_Painting,\n",
    "                          train_labels_Lyrical_Abstraction, train_labels_Concretism))\n",
    "\n",
    "        test_images_Abstract_Art = np.load(os.path.join(PbN_dir, 'style_test_images_Abstract_Art.npy'))\n",
    "        test_images_Abstract_Expressionism = np.load(os.path.join(PbN_dir, 'style_test_images_Abstract_Expressionism.npy'))\n",
    "        test_images_Art_Informel = np.load(os.path.join(PbN_dir, 'style_test_images_Art_Informel.npy'))\n",
    "        test_images_Color_Field_Painting = np.load(os.path.join(PbN_dir, 'style_test_images_Color_Field_Painting.npy'))\n",
    "        test_images_Lyrical_Abstraction = np.load(os.path.join(PbN_dir, 'style_test_images_Lyrical_Abstraction.npy'))\n",
    "        test_images_Concretism = np.load(os.path.join(PbN_dir, 'style_test_images_Concretism.npy'))\n",
    "        val_data = np.concatenate((test_images_Abstract_Art, test_images_Abstract_Expressionism,\n",
    "                                   test_images_Art_Informel, test_images_Color_Field_Painting,\n",
    "                                   test_images_Lyrical_Abstraction, test_images_Concretism))\n",
    "\n",
    "        val_labels_Abstract_Art = [0 for m in range(test_images_Abstract_Art.shape[0])]\n",
    "        val_labels_Abstract_Expressionism = [1 for n in range(test_images_Abstract_Expressionism.shape[0])]\n",
    "        val_labels_Art_Informel = [2 for p in range(test_images_Art_Informel.shape[0])]\n",
    "        val_labels_Color_Field_Painting = [3 for q in range(test_images_Color_Field_Painting.shape[0])]\n",
    "        val_labels_Lyrical_Abstraction = [4 for j1 in range(test_images_Lyrical_Abstraction.shape[0])]\n",
    "        val_labels_Concretism = [5 for j2 in range(test_images_Concretism.shape[0])]\n",
    "        val_labels = np.concatenate((val_labels_Abstract_Art, val_labels_Abstract_Expressionism,\n",
    "                              val_labels_Art_Informel, val_labels_Color_Field_Painting,\n",
    "                              val_labels_Lyrical_Abstraction, val_labels_Concretism))\n",
    "\n",
    "        X = np.concatenate((train_data, val_data))\n",
    "        X = X.reshape([X.shape[0], -1])\n",
    "        y = np.concatenate((train_labels, val_labels))\n",
    "        return X, y"
   ]
  },
  {
   "cell_type": "code",
   "execution_count": null,
   "metadata": {
    "collapsed": true
   },
   "outputs": [],
   "source": [
    "def LR_cv(X, y, n_components, C=1.0, solver=\"saga\", multi_class=\"multinomial\", n_splits=5):\n",
    "    skf = StratifiedKFold(n_splits=5, shuffle=True, random_state=2)\n",
    "    avg_accuracy = []\n",
    "    avg_precision = []\n",
    "    avg_recall = []\n",
    "    avg_f_score = []\n",
    "    for train_index, val_index in skf.split(X, y):\n",
    "        # PCA\n",
    "        pca = PCA(n_components=n_components)\n",
    "        X_train = pca.fit_transform(X[train_index])\n",
    "        X_val = pca.transform(X[val_index])\n",
    "        print(\"X_train shape:\", X_train.shape)\n",
    "        print(\"X_val shape:\", X_val.shape)  \n",
    "        \n",
    "        clf = LogisticRegression(C=C, solver=solver, multi_class=multi_class, n_jobs=-1)\n",
    "        clf.fit(X_train, y[train_index]) \n",
    "        predicts = clf.predict(X_val)\n",
    "        print(predicts)\n",
    "        print(y[val_index])\n",
    "        ac_score = metrics.accuracy_score(y[val_index], predicts)  \n",
    "        cl_report = metrics.classification_report(y[val_index], predicts)\n",
    "        precision = metrics.precision_score(y[val_index], predicts, average=\"macro\")\n",
    "        recall = metrics.recall_score(y[val_index], predicts, average=\"macro\")\n",
    "        f_score = metrics.f1_score(y[val_index], predicts, average=\"macro\")\n",
    "        \n",
    "        avg_accuracy.append(ac_score)\n",
    "        avg_precision.append(precision)\n",
    "        avg_recall.append(recall)\n",
    "        avg_f_score.append(f_score)\n",
    "        \n",
    "        print(ac_score)\n",
    "        print(cl_report)\n",
    "        print(precision)\n",
    "        print(recall)\n",
    "        print(f_score)\n",
    "    avg_acc = np.average(avg_accuracy)\n",
    "    avg_p = np.average(avg_precision)\n",
    "    avg_r = np.average(avg_recall)\n",
    "    avg_f = np.average(avg_f_score)\n",
    "    print(\"avg_acc:\", avg_acc)\n",
    "    print(\"avg_p:\", avg_p)\n",
    "    print(\"avg_r:\", avg_r)\n",
    "    print(\"avg_f:\", avg_f)"
   ]
  },
  {
   "cell_type": "code",
   "execution_count": 4,
   "metadata": {
    "collapsed": true
   },
   "outputs": [],
   "source": [
    "X, y = load_data_PbN(data_dir)"
   ]
  },
  {
   "cell_type": "code",
   "execution_count": 6,
   "metadata": {
    "collapsed": true
   },
   "outputs": [],
   "source": [
    "n_components = 0.95"
   ]
  },
  {
   "cell_type": "code",
   "execution_count": null,
   "metadata": {
    "collapsed": false,
    "scrolled": true
   },
   "outputs": [
    {
     "name": "stdout",
     "output_type": "stream",
     "text": [
      "('X_train shape:', (4648, 981))\n",
      "('X_val shape:', (1164, 981))\n"
     ]
    },
    {
     "name": "stderr",
     "output_type": "stream",
     "text": [
      "/home/ziven/anaconda2/lib/python2.7/site-packages/sklearn/linear_model/sag.py:326: ConvergenceWarning: The max_iter was reached which means the coef_ did not converge\n",
      "  \"the coef_ did not converge\", ConvergenceWarning)\n"
     ]
    },
    {
     "name": "stdout",
     "output_type": "stream",
     "text": [
      "[1 1 0 ..., 1 1 1]\n",
      "[0 0 0 ..., 5 5 5]\n",
      "0.255154639175\n",
      "             precision    recall  f1-score   support\n",
      "\n",
      "          0       0.22      0.21      0.22       184\n",
      "          1       0.29      0.39      0.33       352\n",
      "          2       0.26      0.22      0.24       208\n",
      "          3       0.27      0.27      0.27       181\n",
      "          4       0.14      0.09      0.11       127\n",
      "          5       0.19      0.13      0.16       112\n",
      "\n",
      "avg / total       0.25      0.26      0.25      1164\n",
      "\n",
      "0.228884743263\n",
      "0.2188885284\n",
      "0.220812809994\n",
      "('X_train shape:', (4649, 988))\n",
      "('X_val shape:', (1163, 988))\n",
      "[3 2 0 ..., 4 3 2]\n",
      "[0 0 0 ..., 5 5 5]\n",
      "0.248495270851\n",
      "             precision    recall  f1-score   support\n",
      "\n",
      "          0       0.24      0.18      0.21       184\n",
      "          1       0.29      0.38      0.33       352\n",
      "          2       0.23      0.21      0.22       208\n",
      "          3       0.26      0.28      0.27       181\n",
      "          4       0.17      0.11      0.13       126\n",
      "          5       0.15      0.12      0.14       112\n",
      "\n",
      "avg / total       0.24      0.25      0.24      1163\n",
      "\n",
      "0.221966928443\n",
      "0.214538892322\n",
      "0.215470321263\n"
     ]
    }
   ],
   "source": [
    "LR_cv(X, y, n_components)"
   ]
  },
  {
   "cell_type": "code",
   "execution_count": null,
   "metadata": {
    "collapsed": true
   },
   "outputs": [],
   "source": []
  }
 ],
 "metadata": {
  "kernelspec": {
   "display_name": "Python 2",
   "language": "python",
   "name": "python2"
  },
  "language_info": {
   "codemirror_mode": {
    "name": "ipython",
    "version": 2
   },
   "file_extension": ".py",
   "mimetype": "text/x-python",
   "name": "python",
   "nbconvert_exporter": "python",
   "pygments_lexer": "ipython2",
   "version": "2.7.13"
  }
 },
 "nbformat": 4,
 "nbformat_minor": 2
}
